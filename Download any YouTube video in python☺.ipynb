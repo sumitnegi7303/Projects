{
 "cells": [
  {
   "cell_type": "code",
   "execution_count": null,
   "id": "cded0eda",
   "metadata": {},
   "outputs": [],
   "source": [
    "from pytube import YouTube\n",
    "url = input(\"please enter the link of YouTube video : \")\n",
    "yt = YouTube (url)\n",
    "ys = yt.streams.get_highest_resolution()\n",
    "\n",
    "print(\"Downloading the video , please wait...\")\n",
    "ys.download()\n",
    "print(\"Finished downloading!\")"
   ]
  }
 ],
 "metadata": {
  "kernelspec": {
   "display_name": "Python 3 (ipykernel)",
   "language": "python",
   "name": "python3"
  },
  "language_info": {
   "codemirror_mode": {
    "name": "ipython",
    "version": 3
   },
   "file_extension": ".py",
   "mimetype": "text/x-python",
   "name": "python",
   "nbconvert_exporter": "python",
   "pygments_lexer": "ipython3",
   "version": "3.9.7"
  }
 },
 "nbformat": 4,
 "nbformat_minor": 5
}
