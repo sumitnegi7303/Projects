{
 "cells": [
  {
   "cell_type": "code",
   "execution_count": null,
   "id": "80cdd083",
   "metadata": {},
   "outputs": [],
   "source": [
    "n = 10\n",
    "\n",
    "for i in range(0, n):\n",
    "    for j in range(1, n - i):\n",
    "        print(\" \",end=\"\")\n",
    "    print(\"*\",end=\"\")\n",
    "    for k in range(0, i):"
   ]
  }
 ],
 "metadata": {
  "kernelspec": {
   "display_name": "Python 3 (ipykernel)",
   "language": "python",
   "name": "python3"
  },
  "language_info": {
   "codemirror_mode": {
    "name": "ipython",
    "version": 3
   },
   "file_extension": ".py",
   "mimetype": "text/x-python",
   "name": "python",
   "nbconvert_exporter": "python",
   "pygments_lexer": "ipython3",
   "version": "3.9.7"
  }
 },
 "nbformat": 4,
 "nbformat_minor": 5
}
