{
 "cells": [
  {
   "cell_type": "code",
   "execution_count": 6,
   "id": "3b525ed7",
   "metadata": {},
   "outputs": [
    {
     "ename": "SyntaxError",
     "evalue": "invalid syntax (Temp/ipykernel_18100/2720401949.py, line 17)",
     "output_type": "error",
     "traceback": [
      "\u001b[1;36m  File \u001b[1;32m\"C:\\Users\\GOURAV~1\\AppData\\Local\\Temp/ipykernel_18100/2720401949.py\"\u001b[1;36m, line \u001b[1;32m17\u001b[0m\n\u001b[1;33m    results=\u001b[0m\n\u001b[1;37m    ^\u001b[0m\n\u001b[1;31mSyntaxError\u001b[0m\u001b[1;31m:\u001b[0m invalid syntax\n"
     ]
    }
   ],
   "source": [
    "import cgi\n",
    "from base64 import b64decode\n",
    "import face_recognition\n",
    "formData = cgi.FieldStorage()\n",
    "face_match=0\n",
    "image = formData.getvalue(\"current_image\")\n",
    "email = formData.getvalue(\"email\")\n",
    "data_uri = image\n",
    "header, encode = data_uri.split(\",\",1)\n",
    "data = b64decode(encoded)\n",
    "with open(\"image.png\", \"wb\") as f :\n",
    "    f.write(data)\n",
    "got_image = face_recognition.load_image_file(\"image.png\")\n",
    "existing_image = face_recognition.load_image_file(\"students/\"+email+\".jpg\")\n",
    "got_image_facialfeatures = face_recognition.face_encoding(got_image[0]\n",
    "\n",
    "results=\n",
    "face_recognition.compare_faces([existing_image_facialfeatures],got_image_facialfeatures)\n",
    "\n",
    "\n",
    "if(results[0]):\n",
    "    face_match=1\n",
    "else:\n",
    "    face_match=0\n",
    "    \n",
    "    \n",
    "print(\"content-Type: text/html\")\n",
    "print()\n",
    "\n",
    "\n",
    "if(face_match==1):\n",
    "    print(\"<script>alert('welcome \",email,\" ')</script>\")\n",
    "else:\n",
    "    print(\"<script>alert('face not recognized')</script>\")"
   ]
  },
  {
   "cell_type": "code",
   "execution_count": null,
   "id": "7aa5ab47",
   "metadata": {},
   "outputs": [],
   "source": [
    "import cgi\n",
    "from base64 import b64decode\n",
    "import face_recognition\n",
    "formData = cgi.FieldStorage()\n",
    "face_match=0\n",
    "image = formData.getvalue(\"current_image\")\n",
    "email = formData.getvalue(\"email\")\n",
    "data_uri = image\n",
    "header, encode = data_uri.split(\",\",1)\n",
    "data = b64decode(encoded)\n",
    "with open(\"image.png\", \"wb\") as f :\n",
    "    f.write(data)\n",
    "got_image = face_recognition.load_image_file(\"image.png\")\n",
    "existing_image = face_recognition.load_image_file(\"students/\"+email+\".jpg\")\n",
    "got_image_facialfeatures = face_recognition.face_encoding(got_image[0])"
   ]
  },
  {
   "cell_type": "code",
   "execution_count": null,
   "id": "857ffc4a",
   "metadata": {},
   "outputs": [],
   "source": [
    "existing_image_facialfeatures = face_recognition.face_encodings(existing_image[0])\n",
    "\n",
    "results=\n",
    "face_recognition.compare_faces([existing_image_facialfeatures],got_image_facialfeatures)\n",
    "\n",
    "\n",
    "if(results[0]):\n",
    "    face_match=1\n",
    "else:\n",
    "    face_match=0\n",
    "    \n",
    "    \n",
    "print(\"content-Type: text/html\")\n",
    "print()\n",
    "\n",
    "\n",
    "if(face_match==1):\n",
    "    print(\"<script>alert('welcome \",email,\" ')</script>\")\n",
    "else:\n",
    "    print(\"<script>alert('face not recognized')</script>\")"
   ]
  }
 ],
 "metadata": {
  "kernelspec": {
   "display_name": "Python 3 (ipykernel)",
   "language": "python",
   "name": "python3"
  },
  "language_info": {
   "codemirror_mode": {
    "name": "ipython",
    "version": 3
   },
   "file_extension": ".py",
   "mimetype": "text/x-python",
   "name": "python",
   "nbconvert_exporter": "python",
   "pygments_lexer": "ipython3",
   "version": "3.9.7"
  }
 },
 "nbformat": 4,
 "nbformat_minor": 5
}
