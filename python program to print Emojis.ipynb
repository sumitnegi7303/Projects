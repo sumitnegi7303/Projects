{
 "cells": [
  {
   "cell_type": "code",
   "execution_count": null,
   "id": "d7245a5e",
   "metadata": {},
   "outputs": [],
   "source": [
    "pip install emoji"
   ]
  },
  {
   "cell_type": "code",
   "execution_count": null,
   "id": "9fb219da",
   "metadata": {},
   "outputs": [],
   "source": [
    "import emoji\n",
    "\n",
    "print(emoji.emojize(\":India:\"))\n",
    "print(emoji.emojize(\":books:\"))\n",
    "print(emoji.emojize(\":red_heart:\"))\n",
    "print(emoji.emojize(\":hibiscus:\"))\n",
    "print(emoji.emojize(\":rose:\"))\n",
    "print(emoji.emojize(\":baby:\"))\n",
    "\n"
   ]
  }
 ],
 "metadata": {
  "kernelspec": {
   "display_name": "Python 3 (ipykernel)",
   "language": "python",
   "name": "python3"
  },
  "language_info": {
   "codemirror_mode": {
    "name": "ipython",
    "version": 3
   },
   "file_extension": ".py",
   "mimetype": "text/x-python",
   "name": "python",
   "nbconvert_exporter": "python",
   "pygments_lexer": "ipython3",
   "version": "3.9.7"
  }
 },
 "nbformat": 4,
 "nbformat_minor": 5
}
