{
 "cells": [
  {
   "cell_type": "code",
   "execution_count": 1,
   "id": "81f5569e",
   "metadata": {},
   "outputs": [
    {
     "ename": "ModuleNotFoundError",
     "evalue": "No module named 'rasterio'",
     "output_type": "error",
     "traceback": [
      "\u001b[1;31m---------------------------------------------------------------------------\u001b[0m",
      "\u001b[1;31mModuleNotFoundError\u001b[0m                       Traceback (most recent call last)",
      "\u001b[1;32mC:\\Users\\GOURAV~1\\AppData\\Local\\Temp/ipykernel_21576/3517635050.py\u001b[0m in \u001b[0;36m<module>\u001b[1;34m\u001b[0m\n\u001b[0;32m      1\u001b[0m \u001b[1;31m# Importing the image\u001b[0m\u001b[1;33m\u001b[0m\u001b[1;33m\u001b[0m\u001b[0m\n\u001b[0;32m      2\u001b[0m \u001b[1;32mimport\u001b[0m \u001b[0mmath\u001b[0m\u001b[1;33m\u001b[0m\u001b[1;33m\u001b[0m\u001b[0m\n\u001b[1;32m----> 3\u001b[1;33m \u001b[1;32mimport\u001b[0m \u001b[0mrasterio\u001b[0m\u001b[1;33m\u001b[0m\u001b[1;33m\u001b[0m\u001b[0m\n\u001b[0m\u001b[0;32m      4\u001b[0m \u001b[1;32mimport\u001b[0m \u001b[0mmatplotlib\u001b[0m\u001b[1;33m.\u001b[0m\u001b[0mpyplot\u001b[0m \u001b[1;32mas\u001b[0m \u001b[0mplt\u001b[0m\u001b[1;33m\u001b[0m\u001b[1;33m\u001b[0m\u001b[0m\n\u001b[0;32m      5\u001b[0m \u001b[0mimage_file\u001b[0m \u001b[1;33m=\u001b[0m \u001b[1;34m\"image.tif\"\u001b[0m\u001b[1;33m\u001b[0m\u001b[1;33m\u001b[0m\u001b[0m\n",
      "\u001b[1;31mModuleNotFoundError\u001b[0m: No module named 'rasterio'"
     ]
    }
   ],
   "source": [
    "# Importing the image\n",
    "import math\n",
    "import rasterio\n",
    "import matplotlib.pyplot as plt\n",
    "image_file = \"image.tif\"\n",
    "sat_data = rasterio.open(image_file)\n",
    "#calculating the dimensions of the image on earth in meteres\n",
    "width_in_projected_units = sat_data.bounds.right - sat_data.boundas.left\n",
    "height_in_projecte_units = sat_data.bounds.top - sat_data.bounds.bottom\n",
    "print(\"width: {}, Height: {}\".format(width_in_projected_units,height_in_projected_units))\n",
    "#rows and Columns\n",
    "print(\"Rows: {}, Columns: {}\".format(sat_data.height, sat_data.width))\n",
    "\n",
    "row_min = 0\n",
    "col_min = 0\n",
    "# LOwer right pixel. Rows and columns are Zero indexing.\n",
    "row_max = sat_data.height - 1\n",
    "col_max = sat_data.width - 1\n",
    "topleft = sat_data.transform * (row_min, col_min)\n",
    "botright = sat_data.transform * (row_max, col_max)\n",
    "print(\"Top left corner coordinates: {}\".format(topleft))\n",
    "print(\"Bottom right corner coordinates: {}\".format(botright))\n",
    "print(sat_data.count)\n",
    "# sequence of band indexes\n",
    "print(sat_data.indexes)\n",
    "# Load the 4 bands into 2d arrays - recall that we previously learned planetScope band order is BGRN.\n",
    "b,g,r,n = sat_data.read()"
   ]
  }
 ],
 "metadata": {
  "kernelspec": {
   "display_name": "Python 3 (ipykernel)",
   "language": "python",
   "name": "python3"
  },
  "language_info": {
   "codemirror_mode": {
    "name": "ipython",
    "version": 3
   },
   "file_extension": ".py",
   "mimetype": "text/x-python",
   "name": "python",
   "nbconvert_exporter": "python",
   "pygments_lexer": "ipython3",
   "version": "3.9.7"
  }
 },
 "nbformat": 4,
 "nbformat_minor": 5
}
